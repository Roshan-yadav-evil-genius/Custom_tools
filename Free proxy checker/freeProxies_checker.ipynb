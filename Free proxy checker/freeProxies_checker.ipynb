{
 "cells": [
  {
   "cell_type": "code",
   "execution_count": 24,
   "metadata": {},
   "outputs": [
    {
     "name": "stdout",
     "output_type": "stream",
     "text": [
      "Fetching.....[Done]\n"
     ]
    }
   ],
   "source": [
    "from bs4 import BeautifulSoup\n",
    "import requests\n",
    "# from tabulate import tabulate\n",
    "from multiprocessing import Process\n",
    "\n",
    "print(\"Fetching.....\", end=\"\")\n",
    "\n",
    "\n",
    "def GetProxys():\n",
    "    website_html = requests.get(\"https://free-proxy-list.net\").text\n",
    "    soup = BeautifulSoup(website_html, \"html.parser\")\n",
    "    soup = soup.find(\"table\")\n",
    "    Headings = []\n",
    "    Body = []\n",
    "    Ip = []\n",
    "    for heading in soup.find_all(\"th\"):\n",
    "        Headings.append(heading.text)\n",
    "    for ip_html in soup.find_all(\"tr\"):\n",
    "        ip_info_list = []\n",
    "        for ip_info in ip_html.find_all(\"td\"):\n",
    "            ip_info_list.append(ip_info.text)\n",
    "        if len(ip_info_list) > 1:\n",
    "            if ip_info_list[6] == \"yes\":\n",
    "                Ip.append(f\"{ip_info_list[0]}:{ip_info_list[1]}\")\n",
    "                Body.append(ip_info_list)\n",
    "    return Ip, Body\n",
    "\n",
    "\n",
    "Ips, info = GetProxys()\n",
    "print(\"[Done]\")\n",
    "\n"
   ]
  },
  {
   "cell_type": "code",
   "execution_count": 25,
   "metadata": {},
   "outputs": [],
   "source": [
    "def perform_request(ip):\n",
    "    http_proxy = f\"http://{ip}\"\n",
    "    https_proxy = f\"https://{ip}\"\n",
    "\n",
    "    proxyDict = {\n",
    "        \"http\": http_proxy,\n",
    "        \"https\": https_proxy,\n",
    "    }\n",
    "    for _ in range(2):\n",
    "        try:\n",
    "            r = requests.get(\"http://api.ipify.org\",\n",
    "                             proxies=proxyDict, timeout=10)\n",
    "            print(f\"{r}/{r.text}\", end=\"/\")\n",
    "        except:\n",
    "            print(\"{-_-}\", end=\"/\")\n",
    "    print()"
   ]
  },
  {
   "cell_type": "code",
   "execution_count": 26,
   "metadata": {},
   "outputs": [],
   "source": [
    "def divide_chunks(l, n):\n",
    "    list = []\n",
    "    for x in range(0, len(l), n):\n",
    "        list.append(l[x:x+5])\n",
    "    return list\n",
    "\n",
    "Chunks = divide_chunks(Ips, 6)\n",
    "\n",
    "def Check_availability(list):\n",
    "    for x in list:\n",
    "        perform_request(x)\n",
    "\n",
    "for Ip_list in Chunks:\n",
    "    p1=Process(target=Check_availability,args=(Ip_list,))\n",
    "    p1.start()\n",
    "    p1.join()"
   ]
  }
 ],
 "metadata": {
  "interpreter": {
   "hash": "9e0de7fe3a69c5e6a51f30fea2a8ff95ed218a5a8d380564dbf68aacaef56851"
  },
  "kernelspec": {
   "display_name": "Python 3.9.8 64-bit ('env': venv)",
   "language": "python",
   "name": "python3"
  },
  "language_info": {
   "codemirror_mode": {
    "name": "ipython",
    "version": 3
   },
   "file_extension": ".py",
   "mimetype": "text/x-python",
   "name": "python",
   "nbconvert_exporter": "python",
   "pygments_lexer": "ipython3",
   "version": "3.9.8"
  },
  "orig_nbformat": 4
 },
 "nbformat": 4,
 "nbformat_minor": 2
}
